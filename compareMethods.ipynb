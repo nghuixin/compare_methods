{
 "cells": [
  {
   "cell_type": "code",
   "execution_count": 7,
   "metadata": {},
   "outputs": [],
   "source": [
    "# When you download this as a Python script, Jupyter will automatically insert the environment shebang here. \n",
    "def getMeanValue(valueList):\n",
    "    \"\"\"\n",
    "    Calculate the mean (average) value from a list of values.\n",
    "    Input: list of integers/floats\n",
    "    Output: mean value\n",
    "    \"\"\"\n",
    "    valueTotal = 0.0\n",
    " \n",
    "    for value in valueList:\n",
    "        valueTotal += value\n",
    "    numberValues = len(valueList) \n",
    "    return (valueTotal/numberValues)\n",
    "\n",
    "def intersection(lst1, lst2):\n",
    "    return list(set(lst1) & set(lst2))\n"
   ]
  },
  {
   "cell_type": "code",
   "execution_count": 8,
   "metadata": {},
   "outputs": [],
   "source": [
    "def r2(predictions, labels):\n",
    "    predictions =predictions[~np.isnan(predictions)]\n",
    "    labels =labels[~np.isnan(labels)]\n",
    "    return r2_score(predictions, labels) \n",
    "    \n",
    "def MAE(predictions, labels):\n",
    "    differences = [abs(x-y) for x,y in zip(predictions,labels)]\n",
    "    return sum(differences) / len(differences) \n",
    "\n",
    "def MSE(predictions, labels):\n",
    "    predictions =predictions[~np.isnan(predictions)]\n",
    "    differences = [(x-y)**2 for x,y in zip(predictions,labels)]\n",
    "    return sum(differences) / len(differences)"
   ]
  },
  {
   "cell_type": "code",
   "execution_count": 9,
   "metadata": {},
   "outputs": [],
   "source": [
    "def runLM(y, X, df):\n",
    "    lm = linear_regression(df[X], df[y], remove_na=True, relimp=True).round(6)\n",
    "    lm = pd.DataFrame(lm[['names', 'coef', 'se', 'T', 'pval',  'adj_r2']])#, \n",
    "                         # 'CI[2.5%]', 'CI[97.5%]'])\n",
    "    lm['var'] = y\n",
    "    return lm"
   ]
  }
 ],
 "metadata": {
  "kernelspec": {
   "display_name": "Python 3 (ipykernel)",
   "language": "python",
   "name": "python3"
  },
  "language_info": {
   "codemirror_mode": {
    "name": "ipython",
    "version": 3
   },
   "file_extension": ".py",
   "mimetype": "text/x-python",
   "name": "python",
   "nbconvert_exporter": "python",
   "pygments_lexer": "ipython3",
   "version": "3.11.8"
  },
  "vscode": {
   "interpreter": {
    "hash": "1ade9af84662c61be818bfbd907fc0c7d2749891f51e105a08b4d0528832272f"
   }
  }
 },
 "nbformat": 4,
 "nbformat_minor": 4
}
