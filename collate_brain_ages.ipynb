{
 "cells": [
  {
   "cell_type": "markdown",
   "metadata": {},
   "source": [
    "### Collate brain ages from DenseNet, PHOTON, UCSD Multimodal and BrainAgeR"
   ]
  },
  {
   "cell_type": "code",
   "execution_count": 182,
   "metadata": {},
   "outputs": [
    {
     "name": "stdout",
     "output_type": "stream",
     "text": [
      "['agevisit', 'ageenroll', 'Brain_Age', 'AgeDisc', 'Brain_age_quad', 'AgeDisc_Quad', 'Age2', 'PLS_BrainAge', 'PCA_BrainAge', 'Lasso_BrainAge', 'AgeBins', 'Age3', 'age_prediction', 'AgeofOnset', 'ageprediction_BrainAgeR', 'ageprediction_BrainAgeR_lowerCI', 'ageprediction_BrainAgeR_upperCI', 'greymatterVol_BrainAgeR', 'whitematterVol_BrainAgeR', 'CSFVol_BrainAgeR']\n"
     ]
    },
    {
     "data": {
      "text/plain": [
       "(117, 2335)"
      ]
     },
     "execution_count": 182,
     "metadata": {},
     "output_type": "execute_result"
    }
   ],
   "source": [
    "import os\n",
    "import pandas as pd\n",
    "import pyreadstat\n",
    "\n",
    "path = os.path.join(\"..\", \"data_original\", \"Master_BAI_080720_with_051517completers_060117imagingmaster_genotypes_brainages_ENIGMA_FS_MERGEFK_30122020.sav\")\n",
    "df_photon_brainager, meta = pyreadstat.read_sav(path)\n",
    "\n",
    "age_cols = [col for col in df_photon_brainager.columns if 'age' in col.lower()] # sanity check to see what columns contain age \n",
    "print(age_cols)\n",
    "\n",
    "df_photon_brainager = df_photon_brainager[~df_photon_brainager[['ageprediction_BrainAgeR', 'age_prediction']].isna().any(axis=1)]\n",
    "df_photon_brainager.shape\n",
    "#df = df[(df[\"visit\"] == \"Baseline\")].drop_duplicates()\n",
    " "
   ]
  },
  {
   "cell_type": "code",
   "execution_count": 183,
   "metadata": {},
   "outputs": [
    {
     "data": {
      "text/plain": [
       "(117, 2336)"
      ]
     },
     "execution_count": 183,
     "metadata": {},
     "output_type": "execute_result"
    }
   ],
   "source": [
    "path = os.path.join(\"..\", \"data_processed\", \"bpad_ridge.csv\")\n",
    "df_multimodal = pd.read_csv(path)\n",
    "\n",
    "df_multimodal =  df_multimodal.rename(columns={\"BD#\": \"stdyptid\"})\n",
    "df_multimodal = df_multimodal[['stdyptid', 'ridge_BrainAge']]\n",
    "full_df = df_photon_brainager.merge(df_multimodal, how='inner', on='stdyptid')\n",
    "full_df.shape "
   ]
  },
  {
   "cell_type": "code",
   "execution_count": 184,
   "metadata": {},
   "outputs": [],
   "source": [
    "# subset_control_train = pd.read_csv('../data_processed/hc_train_age_proportion_match_bd.csv')\n",
    "# subset_control_test = pd.read_csv('../data_processed/hc_test_age_proportion_match_bd.csv')\n",
    " "
   ]
  },
  {
   "cell_type": "markdown",
   "metadata": {},
   "source": [
    "CNN DF"
   ]
  },
  {
   "cell_type": "code",
   "execution_count": 185,
   "metadata": {},
   "outputs": [
    {
     "name": "stderr",
     "output_type": "stream",
     "text": [
      "C:\\Users\\hxng\\AppData\\Local\\Temp\\ipykernel_6684\\938450680.py:2: DtypeWarning: Columns (21,26,399,415,419,465,466,467,469,471,473,830,832,858,859,866,868,926,929) have mixed types. Specify dtype option on import or set low_memory=False.\n",
      "  df_cnn = pd.read_csv(cnn_brain_age_path, index_col= False)\n"
     ]
    }
   ],
   "source": [
    "cnn_brain_age_path = os.path.join(\"..\", \"data_original\", \"master_bai_merge_cnn_brainage.csv\")\n",
    "df_cnn = pd.read_csv(cnn_brain_age_path, index_col= False)\n",
    "df_cnn = df_cnn.drop_duplicates(subset=\"stdyptid\")\n",
    "df_cnn = df_cnn[['stdyptid', 'cnn_BrainAge']]\n",
    "\n",
    " \n",
    "full_df = full_df.merge(df_cnn, how='inner', on='stdyptid')"
   ]
  },
  {
   "cell_type": "code",
   "execution_count": 191,
   "metadata": {},
   "outputs": [],
   "source": [
    " \n",
    "full_df['dxgroup'].value_counts()\n",
    "full_df.to_csv('../data_processed/df_all_brainage_2025.csv', index=False)\n"
   ]
  }
 ],
 "metadata": {
  "kernelspec": {
   "display_name": "Python 3 (ipykernel)",
   "language": "python",
   "name": "python3"
  },
  "language_info": {
   "codemirror_mode": {
    "name": "ipython",
    "version": 3
   },
   "file_extension": ".py",
   "mimetype": "text/x-python",
   "name": "python",
   "nbconvert_exporter": "python",
   "pygments_lexer": "ipython3",
   "version": "3.11.8"
  },
  "vscode": {
   "interpreter": {
    "hash": "1ade9af84662c61be818bfbd907fc0c7d2749891f51e105a08b4d0528832272f"
   }
  }
 },
 "nbformat": 4,
 "nbformat_minor": 4
}
